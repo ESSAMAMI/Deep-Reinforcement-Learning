{
 "cells": [
  {
   "cell_type": "code",
   "execution_count": 23,
   "metadata": {},
   "outputs": [],
   "source": [
    "from tensorflow.keras.datasets import mnist\n",
    "from matplotlib import pyplot\n",
    "\n",
    "class PreProcessing:\n",
    "    \n",
    "    trainX = None\n",
    "    trainy = None\n",
    "    testX = None\n",
    "    testy = None\n",
    "    \n",
    "    def _init__():\n",
    "        pass\n",
    "    \n",
    "    def generate_dataset(self):\n",
    "        \n",
    "        # summarize loaded dataset\n",
    "        print('Train: X=%s, y=%s' % (trainX.shape, trainy.shape))\n",
    "        print('Test: X=%s, y=%s' % (testX.shape, testy.shape))\n",
    "        (self.trainX, self.trainy), (self.testX, self.testy) = mnist.load_data()\n",
    "        return self.trainX, self.trainy, self.testX, self.testy\n",
    "\n",
    "    \n",
    "    def plot_samples(self, samples=9):\n",
    "        \n",
    "        # plot first few images\n",
    "        for i in range(samples):\n",
    "            # define subplot\n",
    "            pyplot.subplot(330 + 1 + i)\n",
    "            # plot raw pixel data\n",
    "            pyplot.imshow(trainX[i], cmap=pyplot.get_cmap('gray'))\n",
    "        # show the figure\n",
    "        pyplot.show()\n"
   ]
  }
 ],
 "metadata": {
  "kernelspec": {
   "display_name": "Python 3",
   "language": "python",
   "name": "python3"
  },
  "language_info": {
   "codemirror_mode": {
    "name": "ipython",
    "version": 3
   },
   "file_extension": ".py",
   "mimetype": "text/x-python",
   "name": "python",
   "nbconvert_exporter": "python",
   "pygments_lexer": "ipython3",
   "version": "3.7.9"
  }
 },
 "nbformat": 4,
 "nbformat_minor": 4
}
