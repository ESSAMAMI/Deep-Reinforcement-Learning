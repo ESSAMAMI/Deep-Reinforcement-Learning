{
 "cells": [
  {
   "cell_type": "code",
   "execution_count": 5,
   "metadata": {},
   "outputs": [],
   "source": [
    "import tensorflow as tf\n",
    "import numpy as np\n",
    "from tensorflow.keras.datasets import mnist\n",
    "from tensorflow.keras.utils import to_categorical\n",
    "from matplotlib import pyplot\n",
    "\n",
    "class PreProcessing:\n",
    "    \n",
    "    trainX = None\n",
    "    trainY = None\n",
    "    testX = None\n",
    "    testY = None\n",
    "    \n",
    "    def _init__():\n",
    "        pass\n",
    "    \n",
    "    # load train and test dataset\n",
    "    def load_dataset(self):\n",
    "        # load dataset\n",
    "        (self.trainX, self.trainY), (self.testX, self.testY) = mnist.load_data()\n",
    "        # reshape dataset to have a single channel\n",
    "        self.trainX = self.trainX.reshape((self.trainX.shape[0], 28, 28, 1))\n",
    "        self.testX = self.testX.reshape((self.testX.shape[0], 28, 28, 1))\n",
    "        # one hot encode target values\n",
    "        self.trainY = to_categorical(self.trainY)\n",
    "        self.testY = to_categorical(self.testY)\n",
    "        return self.trainX, self.trainY, self.testX, self.testY\n",
    "\n",
    "    \n",
    "    # preprocess pixels\n",
    "    def preprocess_pixels(self):\n",
    "        # convert from integers to floats\n",
    "        trainX_norm = self.trainX.astype('float32')\n",
    "        testX_norm = self.testX.astype('float32')\n",
    "        # normalize to range 0-1\n",
    "        trainX_norm = trainX_norm / 255.0\n",
    "        testX_norm = testX_norm / 255.0\n",
    "        # return normalized images\n",
    "        return trainX_norm, testX_norm\n",
    "\n",
    "\n",
    "    \n",
    "    def plot_samples(self, samples=9):\n",
    "        \n",
    "        # plot first few images\n",
    "        for i in range(samples):\n",
    "            # define subplot\n",
    "            pyplot.subplot(330 + 1 + i)\n",
    "            # plot raw pixel data\n",
    "            pyplot.imshow(trainX[i], cmap=pyplot.get_cmap('gray'))\n",
    "        # show the figure\n",
    "        pyplot.show()\n"
   ]
  },
  {
   "cell_type": "code",
   "execution_count": 6,
   "metadata": {},
   "outputs": [],
   "source": [
    "pp = PreProcessing()\n",
    "trainX, trainY, testX, testY = pp.load_dataset()"
   ]
  },
  {
   "cell_type": "code",
   "execution_count": 9,
   "metadata": {},
   "outputs": [
    {
     "name": "stdout",
     "output_type": "stream",
     "text": [
      "trainX shape  (60000, 28, 28, 1) testX shape  (10000, 28, 28, 1)\n"
     ]
    }
   ],
   "source": [
    "trainX, testX = pp.preprocess_pixels()\n",
    "print(\"trainX shape \", trainX.shape, \"testX shape \", testX.shape)"
   ]
  },
  {
   "cell_type": "code",
   "execution_count": null,
   "metadata": {},
   "outputs": [],
   "source": []
  }
 ],
 "metadata": {
  "kernelspec": {
   "display_name": "Python 3",
   "language": "python",
   "name": "python3"
  },
  "language_info": {
   "codemirror_mode": {
    "name": "ipython",
    "version": 3
   },
   "file_extension": ".py",
   "mimetype": "text/x-python",
   "name": "python",
   "nbconvert_exporter": "python",
   "pygments_lexer": "ipython3",
   "version": "3.7.9"
  }
 },
 "nbformat": 4,
 "nbformat_minor": 4
}
