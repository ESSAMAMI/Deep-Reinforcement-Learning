{
 "cells": [
  {
   "cell_type": "code",
   "execution_count": 1,
   "metadata": {
    "id": "RAowZ6KS9-h8"
   },
   "outputs": [],
   "source": [
    "#imports\n",
    "import numba\n",
    "import tensorflow as tf\n",
    "import numpy as np\n",
    "from tensorflow.keras.datasets import mnist\n",
    "from tensorflow.keras.utils import to_categorical\n",
    "from matplotlib import pyplot\n",
    "\n"
   ]
  },
  {
   "cell_type": "markdown",
   "metadata": {
    "id": "asw33JAT_RYU"
   },
   "source": [
    "### load train and test dataset + preprocess"
   ]
  },
  {
   "cell_type": "code",
   "execution_count": 2,
   "metadata": {
    "id": "qdrEyeyF_Die"
   },
   "outputs": [],
   "source": [
    "# load train and test dataset\n",
    "def load_dataset():\n",
    "    # load dataset\n",
    "    (trainX, trainY), (testX, testY) = mnist.load_data()\n",
    "    # reshape dataset to have a single channel\n",
    "    trainX = trainX.reshape((trainX.shape[0], 28, 28, 1))\n",
    "    testX = testX.reshape((testX.shape[0], 28, 28, 1))\n",
    "    # one hot encode target values\n",
    "    trainY = to_categorical(trainY)\n",
    "    testY = to_categorical(testY)\n",
    "    return trainX, trainY, testX, testY\n",
    "\n",
    "trainX, trainY, testX, testY = load_dataset()"
   ]
  },
  {
   "cell_type": "code",
   "execution_count": 3,
   "metadata": {
    "colab": {
     "base_uri": "https://localhost:8080/"
    },
    "id": "RakyHWMX_NLx",
    "outputId": "fb9e4f18-015e-49ee-cd71-8a15527292d2"
   },
   "outputs": [
    {
     "name": "stdout",
     "output_type": "stream",
     "text": [
      "trainX shape  (60000, 28, 28, 1) testX shape  (10000, 28, 28, 1)\n"
     ]
    }
   ],
   "source": [
    "# preprocess pixels\n",
    "def preprocess_pixels(trainX, testX):\n",
    "    # convert from integers to floats\n",
    "    trainX_norm = trainX.astype('float32')\n",
    "    testX_norm = testX.astype('float32')\n",
    "    # normalize to range 0-1\n",
    "    trainX_norm = trainX_norm / 255.0\n",
    "    testX_norm = testX_norm / 255.0\n",
    "    # return normalized images\n",
    "    return trainX_norm, testX_norm\n",
    "\n",
    "trainX, testX = preprocess_pixels(trainX, testX)\n",
    "print(\"trainX shape \", trainX.shape, \"testX shape \", testX.shape)"
   ]
  },
  {
   "cell_type": "code",
   "execution_count": 4,
   "metadata": {
    "id": "6Iz5a3w0VTdv"
   },
   "outputs": [],
   "source": [
    "import random\n",
    "from tqdm import tqdm\n",
    "import matplotlib.pyplot as plt\n",
    "import matplotlib.colors as pltcolors\n",
    "from PIL import Image\n",
    "\n",
    "class myKmeans:\n",
    "    def __init__(self, nb_clusters = 1, max_iter = 300, tol = 0.0001):\n",
    "        self.nb_clusters = nb_clusters\n",
    "        self.max_iter = max_iter\n",
    "        self.tol = tol\n",
    "        self.clusters = []\n",
    "        \n",
    "    \n",
    "    def fit(self, dataset):\n",
    "        #init of clusters\n",
    "        get_ids = []\n",
    "        while len(self.clusters) < self.nb_clusters:\n",
    "            r = random.randint(0, len(dataset))\n",
    "            if r in get_ids:\n",
    "                continue\n",
    "            get_ids.append(r)\n",
    "            self.clusters.append(dataset[r])\n",
    "        \n",
    "        has_moved = True\n",
    "        associate = [] #id => id of element, value => id of closest cluster\n",
    "        count = 0\n",
    "        for i in range(self.max_iter):\n",
    "            #print(f\"###################\\n# iter number {i} #\\n###################\")\n",
    "            has_moved = False\n",
    "            associate.clear()\n",
    "            count += 1\n",
    "            #associate elements with his closest cluster\n",
    "            #print(\"associate elements with his closest cluster\")\n",
    "            for element in dataset:\n",
    "                val_closest = np.linalg.norm(element - self.clusters[0])\n",
    "                id_closest = 0\n",
    "                for i,cluster in enumerate(self.clusters):\n",
    "                    val = np.linalg.norm(element - cluster)\n",
    "                    if val <= val_closest:\n",
    "                        val_closest = val\n",
    "                        id_closest = i\n",
    "                        \n",
    "                associate.append(id_closest)\n",
    "\n",
    "\n",
    "\n",
    "            #recenter clusters\n",
    "            #print(\"recenter clusters\")\n",
    "            # len(dataset.shape()) ==> nombre de coordonnées\n",
    "            for id_cluster,cluster in enumerate(self.clusters):\n",
    "                new_cluster = np.zeros(cluster.shape)\n",
    "                count = 0\n",
    "                for id_element,id_closest_cluster in enumerate(associate):\n",
    "                    if id_cluster == id_closest_cluster:\n",
    "                        count+=1\n",
    "                        new_cluster += dataset[id_element]\n",
    "                \n",
    "                if count == 0:\n",
    "                  # recenter random\n",
    "                  self.clusters[id_cluster] = dataset[random.randint(0, len(dataset))]\n",
    "                else:\n",
    "                    new_cluster = new_cluster / count\n",
    "                \n",
    "                # did the cluster moved?\n",
    "                diff = np.linalg.norm(new_cluster - cluster)\n",
    "                #print(f\"norm of the move of the cluster {id_cluster} : {diff}\")\n",
    "                if diff > self.tol: \n",
    "                    has_moved = True\n",
    "                    \n",
    "                self.clusters[id_cluster] = new_cluster \n",
    "            if has_moved == False:\n",
    "                break\n",
    "            #print()\n",
    "        print(f\"###################\\n# iter number {count} #\\n###################\")\n",
    "        self.plot(associate)\n",
    "              \n",
    "    \n",
    "    def simple_encode(self, X):#return as a int the id of the cluster\n",
    "        val_closest = np.linalg.norm(X - self.clusters[0])\n",
    "        id_closest = 0\n",
    "        for i,cluster in tqdm(enumerate(self.clusters)):\n",
    "            val = np.linalg.norm(X - cluster)\n",
    "            if val <= val_closest:\n",
    "                val_closest = val\n",
    "                id_closest = i\n",
    "        return id_closest\n",
    "    \n",
    "    def one_hot_encode(self,X):\n",
    "        liste = [0*self.nb_clusters]\n",
    "        liste[self.simple_encode(X)] = 1\n",
    "        return liste\n",
    "    \n",
    "    def simple_decode(self, X_encode):\n",
    "        return self.clusters[X_encode]\n",
    "    \n",
    "    def one_hot_decode(self, X_encode):\n",
    "        return self.clusters(X_encore.index(1))\n",
    "\n",
    "    def plot(self, associate):\n",
    "        colors = []\n",
    "\n",
    "        for i in range(self.nb_clusters):\n",
    "            r = lambda: random.randint(0,255)\n",
    "            colors.append('#%02X%02X%02X' % (r(),r(),r()))\n",
    "        histo_table = []\n",
    "\n",
    "        for i in range(self.nb_clusters):\n",
    "            histo_table.append(associate.count(i))\n",
    "        print()\n",
    "        print(histo_table)\n",
    "        print(colors)\n",
    "        print()\n",
    "\n",
    "        plt.bar(list(range(self.nb_clusters)), histo_table, color = colors)\n",
    "        plt.show()\n",
    "\n",
    "\n",
    "    def print_clusters_as_images(self):\n",
    "        fig=plt.figure(figsize=(10, 10))\n",
    "        columns = 10\n",
    "        rows = int(self.nb_clusters / 10) + 1 # image orginal\n",
    "\n",
    "        for id,i in enumerate(self.clusters):\n",
    "            fig.add_subplot(rows, columns, id+1)       \n",
    "            plt.imshow(testX[r].squeeze(2), cmap=plt.cm.binary)\n",
    "            plt.imshow(i.squeeze(2), cmap=plt.cm.binary)\n",
    "            plt.xlabel(id)\n"
   ]
  },
  {
   "cell_type": "code",
   "execution_count": 7,
   "metadata": {
    "id": "ec8xfEGHd0eh"
   },
   "outputs": [],
   "source": [
    "test1 = myKmeans(nb_clusters=2,tol=0.00001)\n",
    "#test2 = myKmeans(nb_clusters=4,tol=0.00001)\n",
    "test3 = myKmeans(nb_clusters=6,tol=0.00001)\n",
    "# test4 = myKmeans(nb_clusters=8,tol=0.00001)\n",
    "test5 = myKmeans(nb_clusters=10,max_iter=500,tol=0.00001)\n",
    "# test6 = myKmeans(nb_clusters=12,max_iter=500,tol=0.00001)\n",
    "# test7 = myKmeans(nb_clusters=15,max_iter=500,tol=0.00001)\n",
    "# test8 = myKmeans(nb_clusters=18,max_iter=500,tol=0.00001)\n",
    "test9 = myKmeans(nb_clusters=20,max_iter=500,tol=0.00001)"
   ]
  },
  {
   "cell_type": "code",
   "execution_count": 8,
   "metadata": {
    "colab": {
     "base_uri": "https://localhost:8080/",
     "height": 1000
    },
    "id": "8pse8d3KfbMG",
    "outputId": "1db7c63d-cea0-490e-f762-b15f65ac3c43"
   },
   "outputs": [
    {
     "name": "stdout",
     "output_type": "stream",
     "text": [
      "###################\n",
      "# iter number 37130 #\n",
      "###################\n",
      "\n",
      "[22870, 37130]\n",
      "['#DDB2B4', '#E465BB']\n",
      "\n"
     ]
    },
    {
     "data": {
      "image/png": "[encoded data removed]",
      "text/plain": [
       "<Figure size 432x288 with 1 Axes>"
      ]
     },
     "metadata": {
      "needs_background": "light"
     },
     "output_type": "display_data"
    },
    {
     "name": "stdout",
     "output_type": "stream",
     "text": [
      "###################\n",
      "# iter number 12676 #\n",
      "###################\n",
      "\n",
      "[17832, 12081, 17411, 12676]\n",
      "['#C41B93', '#E714EF', '#F52F2A', '#B47D36']\n",
      "\n"
     ]
    },
    {
     "data": {
      "image/png": "[encoded data removed]",
      "text/plain": [
       "<Figure size 432x288 with 1 Axes>"
      ]
     },
     "metadata": {
      "needs_background": "light"
     },
     "output_type": "display_data"
    },
    {
     "name": "stdout",
     "output_type": "stream",
     "text": [
      "###################\n",
      "# iter number 11381 #\n",
      "###################\n",
      "\n",
      "[10353, 5368, 11491, 10087, 11320, 11381]\n",
      "['#7A8C88', '#557C6A', '#79B320', '#076F1E', '#9C5425', '#1BBFC3']\n",
      "\n"
     ]
    },
    {
     "data": {
      "image/png": "[encoded data removed]",
      "text/plain": [
       "<Figure size 432x288 with 1 Axes>"
      ]
     },
     "metadata": {
      "needs_background": "light"
     },
     "output_type": "display_data"
    },
    {
     "ename": "NameError",
     "evalue": "name 'test4' is not defined",
     "output_type": "error",
     "traceback": [
      "\u001b[1;31m---------------------------------------------------------------------------\u001b[0m",
      "\u001b[1;31mNameError\u001b[0m                                 Traceback (most recent call last)",
      "\u001b[1;32m<ipython-input-8-7d915d24ad10>\u001b[0m in \u001b[0;36m<module>\u001b[1;34m\u001b[0m\n\u001b[0;32m      2\u001b[0m \u001b[0mtest2\u001b[0m\u001b[1;33m.\u001b[0m\u001b[0mfit\u001b[0m\u001b[1;33m(\u001b[0m\u001b[0mtrainX\u001b[0m\u001b[1;33m)\u001b[0m\u001b[1;33m\u001b[0m\u001b[1;33m\u001b[0m\u001b[0m\n\u001b[0;32m      3\u001b[0m \u001b[0mtest3\u001b[0m\u001b[1;33m.\u001b[0m\u001b[0mfit\u001b[0m\u001b[1;33m(\u001b[0m\u001b[0mtrainX\u001b[0m\u001b[1;33m)\u001b[0m\u001b[1;33m\u001b[0m\u001b[1;33m\u001b[0m\u001b[0m\n\u001b[1;32m----> 4\u001b[1;33m \u001b[0mtest4\u001b[0m\u001b[1;33m.\u001b[0m\u001b[0mfit\u001b[0m\u001b[1;33m(\u001b[0m\u001b[0mtrainX\u001b[0m\u001b[1;33m)\u001b[0m\u001b[1;33m\u001b[0m\u001b[1;33m\u001b[0m\u001b[0m\n\u001b[0m\u001b[0;32m      5\u001b[0m \u001b[0mtest5\u001b[0m\u001b[1;33m.\u001b[0m\u001b[0mfit\u001b[0m\u001b[1;33m(\u001b[0m\u001b[0mtrainX\u001b[0m\u001b[1;33m)\u001b[0m\u001b[1;33m\u001b[0m\u001b[1;33m\u001b[0m\u001b[0m\n\u001b[0;32m      6\u001b[0m \u001b[0mtest6\u001b[0m\u001b[1;33m.\u001b[0m\u001b[0mfit\u001b[0m\u001b[1;33m(\u001b[0m\u001b[0mtrainX\u001b[0m\u001b[1;33m)\u001b[0m\u001b[1;33m\u001b[0m\u001b[1;33m\u001b[0m\u001b[0m\n",
      "\u001b[1;31mNameError\u001b[0m: name 'test4' is not defined"
     ]
    }
   ],
   "source": [
    "test1.fit(trainX)\n",
    "test2.fit(trainX)\n",
    "test3.fit(trainX)\n",
    "test4.fit(trainX)\n",
    "test5.fit(trainX)\n",
    "test6.fit(trainX)\n",
    "test7.fit(trainX)\n",
    "test8.fit(trainX)\n",
    "test9.fit(trainX)"
   ]
  },
  {
   "cell_type": "code",
   "execution_count": 9,
   "metadata": {
    "id": "CxToNvBz78Bc"
   },
   "outputs": [
    {
     "name": "stderr",
     "output_type": "stream",
     "text": [
      "2it [00:00, ?it/s]\n",
      "6it [00:00, ?it/s]\n"
     ]
    },
    {
     "ename": "IndexError",
     "evalue": "list index out of range",
     "output_type": "error",
     "traceback": [
      "\u001b[1;31m---------------------------------------------------------------------------\u001b[0m",
      "\u001b[1;31mIndexError\u001b[0m                                Traceback (most recent call last)",
      "\u001b[1;32m<ipython-input-9-457a3c9f0036>\u001b[0m in \u001b[0;36m<module>\u001b[1;34m\u001b[0m\n\u001b[0;32m     27\u001b[0m \u001b[1;33m\u001b[0m\u001b[0m\n\u001b[0;32m     28\u001b[0m     \u001b[0mfig\u001b[0m\u001b[1;33m.\u001b[0m\u001b[0madd_subplot\u001b[0m\u001b[1;33m(\u001b[0m\u001b[0mrows\u001b[0m\u001b[1;33m,\u001b[0m \u001b[0mcolumns\u001b[0m\u001b[1;33m,\u001b[0m \u001b[1;36m6\u001b[0m\u001b[1;33m)\u001b[0m\u001b[1;33m\u001b[0m\u001b[1;33m\u001b[0m\u001b[0m\n\u001b[1;32m---> 29\u001b[1;33m     \u001b[0mplt\u001b[0m\u001b[1;33m.\u001b[0m\u001b[0mimshow\u001b[0m\u001b[1;33m(\u001b[0m\u001b[0mtest5\u001b[0m\u001b[1;33m.\u001b[0m\u001b[0msimple_decode\u001b[0m\u001b[1;33m(\u001b[0m\u001b[0mtest5\u001b[0m\u001b[1;33m.\u001b[0m\u001b[0msimple_encode\u001b[0m\u001b[1;33m(\u001b[0m\u001b[0mtestX\u001b[0m\u001b[1;33m[\u001b[0m\u001b[0mr\u001b[0m\u001b[1;33m]\u001b[0m\u001b[1;33m)\u001b[0m\u001b[1;33m)\u001b[0m\u001b[1;33m.\u001b[0m\u001b[0msqueeze\u001b[0m\u001b[1;33m(\u001b[0m\u001b[1;36m2\u001b[0m\u001b[1;33m)\u001b[0m\u001b[1;33m,\u001b[0m \u001b[0mcmap\u001b[0m\u001b[1;33m=\u001b[0m\u001b[0mplt\u001b[0m\u001b[1;33m.\u001b[0m\u001b[0mcm\u001b[0m\u001b[1;33m.\u001b[0m\u001b[0mbinary\u001b[0m\u001b[1;33m)\u001b[0m\u001b[1;33m\u001b[0m\u001b[1;33m\u001b[0m\u001b[0m\n\u001b[0m\u001b[0;32m     30\u001b[0m     \u001b[0mplt\u001b[0m\u001b[1;33m.\u001b[0m\u001b[0mxlabel\u001b[0m\u001b[1;33m(\u001b[0m\u001b[0mtest5\u001b[0m\u001b[1;33m.\u001b[0m\u001b[0mnb_clusters\u001b[0m\u001b[1;33m)\u001b[0m\u001b[1;33m\u001b[0m\u001b[1;33m\u001b[0m\u001b[0m\n\u001b[0;32m     31\u001b[0m \u001b[1;33m\u001b[0m\u001b[0m\n",
      "\u001b[1;32m<ipython-input-4-0b3797ea8b4c>\u001b[0m in \u001b[0;36msimple_encode\u001b[1;34m(self, X)\u001b[0m\n\u001b[0;32m     78\u001b[0m \u001b[1;33m\u001b[0m\u001b[0m\n\u001b[0;32m     79\u001b[0m     \u001b[1;32mdef\u001b[0m \u001b[0msimple_encode\u001b[0m\u001b[1;33m(\u001b[0m\u001b[0mself\u001b[0m\u001b[1;33m,\u001b[0m \u001b[0mX\u001b[0m\u001b[1;33m)\u001b[0m\u001b[1;33m:\u001b[0m\u001b[1;31m#return as a int the id of the cluster\u001b[0m\u001b[1;33m\u001b[0m\u001b[1;33m\u001b[0m\u001b[0m\n\u001b[1;32m---> 80\u001b[1;33m         \u001b[0mval_closest\u001b[0m \u001b[1;33m=\u001b[0m \u001b[0mnp\u001b[0m\u001b[1;33m.\u001b[0m\u001b[0mlinalg\u001b[0m\u001b[1;33m.\u001b[0m\u001b[0mnorm\u001b[0m\u001b[1;33m(\u001b[0m\u001b[0mX\u001b[0m \u001b[1;33m-\u001b[0m \u001b[0mself\u001b[0m\u001b[1;33m.\u001b[0m\u001b[0mclusters\u001b[0m\u001b[1;33m[\u001b[0m\u001b[1;36m0\u001b[0m\u001b[1;33m]\u001b[0m\u001b[1;33m)\u001b[0m\u001b[1;33m\u001b[0m\u001b[1;33m\u001b[0m\u001b[0m\n\u001b[0m\u001b[0;32m     81\u001b[0m         \u001b[0mid_closest\u001b[0m \u001b[1;33m=\u001b[0m \u001b[1;36m0\u001b[0m\u001b[1;33m\u001b[0m\u001b[1;33m\u001b[0m\u001b[0m\n\u001b[0;32m     82\u001b[0m         \u001b[1;32mfor\u001b[0m \u001b[0mi\u001b[0m\u001b[1;33m,\u001b[0m\u001b[0mcluster\u001b[0m \u001b[1;32min\u001b[0m \u001b[0mtqdm\u001b[0m\u001b[1;33m(\u001b[0m\u001b[0menumerate\u001b[0m\u001b[1;33m(\u001b[0m\u001b[0mself\u001b[0m\u001b[1;33m.\u001b[0m\u001b[0mclusters\u001b[0m\u001b[1;33m)\u001b[0m\u001b[1;33m)\u001b[0m\u001b[1;33m:\u001b[0m\u001b[1;33m\u001b[0m\u001b[1;33m\u001b[0m\u001b[0m\n",
      "\u001b[1;31mIndexError\u001b[0m: list index out of range"
     ]
    },
    {
     "data": {
      "image/png": "[encoded data removed]",
      "text/plain": [
       "<Figure size 720x720 with 4 Axes>"
      ]
     },
     "metadata": {
      "needs_background": "light"
     },
     "output_type": "display_data"
    }
   ],
   "source": [
    "for i in range(10):\n",
    "    fig=plt.figure(figsize=(10, 10))\n",
    "    columns = 10\n",
    "    rows = 1\n",
    "\n",
    "    r = random.randint(0, len(testX))\n",
    "\n",
    "    fig.add_subplot(rows, columns, 1) \n",
    "    plt.imshow(testX[r].squeeze(2), cmap=plt.cm.binary) # image orginal\n",
    "    plt.xlabel(\"origin\")\n",
    "\n",
    "    fig.add_subplot(rows, columns, 2)\n",
    "    plt.imshow(test1.simple_decode(test1.simple_encode(testX[r])).squeeze(2), cmap=plt.cm.binary)\n",
    "    plt.xlabel(test1.nb_clusters)\n",
    "\n",
    "#     fig.add_subplot(rows, columns, 3)\n",
    "#     plt.imshow(test2.simple_decode(test2.simple_encode(testX[r])).squeeze(2), cmap=plt.cm.binary)\n",
    "#     plt.xlabel(test2.nb_clusters)\n",
    "\n",
    "    fig.add_subplot(rows, columns, 4)\n",
    "    plt.imshow(test3.simple_decode(test3.simple_encode(testX[r])).squeeze(2), cmap=plt.cm.binary)\n",
    "    plt.xlabel(test3.nb_clusters)\n",
    "\n",
    "#     fig.add_subplot(rows, columns, 5)\n",
    "#     plt.imshow(test4.simple_decode(test4.simple_encode(testX[r])).squeeze(2), cmap=plt.cm.binary)\n",
    "#     plt.xlabel(test4.nb_clusters)\n",
    "\n",
    "    fig.add_subplot(rows, columns, 6)\n",
    "    plt.imshow(test5.simple_decode(test5.simple_encode(testX[r])).squeeze(2), cmap=plt.cm.binary)\n",
    "    plt.xlabel(test5.nb_clusters)\n",
    "\n",
    "#     fig.add_subplot(rows, columns, 7)\n",
    "#     plt.imshow(test6.simple_decode(test6.simple_encode(testX[r])).squeeze(2), cmap=plt.cm.binary)\n",
    "#     plt.xlabel(test6.nb_clusters)\n",
    "\n",
    "#     fig.add_subplot(rows, columns, 8)\n",
    "#     plt.imshow(test7.simple_decode(test7.simple_encode(testX[r])).squeeze(2), cmap=plt.cm.binary)\n",
    "#     plt.xlabel(test7.nb_clusters)\n",
    "\n",
    "#     fig.add_subplot(rows, columns, 9)\n",
    "#     plt.imshow(test8.simple_decode(test8.simple_encode(testX[r])).squeeze(2), cmap=plt.cm.binary)\n",
    "#     plt.xlabel(test8.nb_clusters)\n",
    "\n",
    "    fig.add_subplot(rows, columns, 10)\n",
    "    plt.imshow(test9.simple_decode(test9.simple_encode(testX[r])).squeeze(2), cmap=plt.cm.binary)\n",
    "    plt.xlabel(test9.nb_clusters)\n",
    "\n",
    "plt.show()"
   ]
  },
  {
   "cell_type": "code",
   "execution_count": null,
   "metadata": {},
   "outputs": [],
   "source": []
  }
 ],
 "metadata": {
  "colab": {
   "collapsed_sections": [],
   "name": "kmeans_MNIST.ipynb",
   "provenance": [],
   "toc_visible": true
  },
  "kernelspec": {
   "display_name": "Python 3",
   "language": "python",
   "name": "python3"
  },
  "language_info": {
   "codemirror_mode": {
    "name": "ipython",
    "version": 3
   },
   "file_extension": ".py",
   "mimetype": "text/x-python",
   "name": "python",
   "nbconvert_exporter": "python",
   "pygments_lexer": "ipython3",
   "version": "3.7.7"
  }
 },
 "nbformat": 4,
 "nbformat_minor": 1
}
